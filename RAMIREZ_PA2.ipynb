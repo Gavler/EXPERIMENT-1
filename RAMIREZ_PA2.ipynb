{
 "cells": [
  {
   "cell_type": "markdown",
   "id": "98f1effd-f7cd-406b-94fc-2b59b120404f",
   "metadata": {},
   "source": [
    "Normalization:"
   ]
  },
  {
   "cell_type": "code",
   "execution_count": 112,
   "id": "34f1dea5-0eb6-4f71-93d0-1e08064123d6",
   "metadata": {},
   "outputs": [
    {
     "name": "stdout",
     "output_type": "stream",
     "text": [
      "Variables: \n",
      " [[0.71415375 0.71016089 0.31247838 0.8471886  0.71315481]\n",
      " [0.16781366 0.76765762 0.50231176 0.90438585 0.21104625]\n",
      " [0.86661248 0.05839994 0.00457689 0.26394781 0.24855211]\n",
      " [0.49831513 0.90546986 0.4992076  0.01404377 0.79460372]\n",
      " [0.24001054 0.97320465 0.11697957 0.09679297 0.76263597]]\n",
      "\n",
      "Normalized: \n",
      " [[-0.53918739 -1.12477413 -1.23686687  0.57827219 -1.3611832 ]\n",
      " [ 0.10769153  0.68750757  0.92539103  0.10801272 -0.13336823]\n",
      " [ 0.24334409  0.17824272  1.30087428 -0.80097859 -1.15108963]\n",
      " [-1.66822466  0.90399064  1.43357832  0.9132025   0.80702661]\n",
      " [-1.49841158  1.59486616  0.9982024   0.03022021 -1.2963387 ]]\n"
     ]
    }
   ],
   "source": [
    "import numpy as np\n",
    "\n",
    "X = np.random.rand(5,5)\n",
    "\n",
    "mean = X.mean()\n",
    "std = X.std()\n",
    "normalized = (X - mean) /std\n",
    "\n",
    "np.save('X_normalized.npy', normalized)\n",
    "\n",
    "print(\"Variables: \\n\", X)\n",
    "print(\"\\nNormalized: \\n\", X_normalized)"
   ]
  },
  {
   "cell_type": "markdown",
   "id": "e27e03cb-13af-408f-9be0-b04b29e606fa",
   "metadata": {},
   "source": [
    " "
   ]
  },
  {
   "cell_type": "markdown",
   "id": "8a5f91db-fb21-43cd-b38d-16bdf4289187",
   "metadata": {},
   "source": [
    "Divisible by 3 Problem:"
   ]
  },
  {
   "cell_type": "code",
   "execution_count": 126,
   "id": "6782b2ce-8d04-4798-9c9d-5987ca5a7534",
   "metadata": {},
   "outputs": [
    {
     "name": "stdout",
     "output_type": "stream",
     "text": [
      "10x10 array: \n",
      " [[    1     4     9    16    25    36    49    64    81   100]\n",
      " [  121   144   169   196   225   256   289   324   361   400]\n",
      " [  441   484   529   576   625   676   729   784   841   900]\n",
      " [  961  1024  1089  1156  1225  1296  1369  1444  1521  1600]\n",
      " [ 1681  1764  1849  1936  2025  2116  2209  2304  2401  2500]\n",
      " [ 2601  2704  2809  2916  3025  3136  3249  3364  3481  3600]\n",
      " [ 3721  3844  3969  4096  4225  4356  4489  4624  4761  4900]\n",
      " [ 5041  5184  5329  5476  5625  5776  5929  6084  6241  6400]\n",
      " [ 6561  6724  6889  7056  7225  7396  7569  7744  7921  8100]\n",
      " [ 8281  8464  8649  8836  9025  9216  9409  9604  9801 10000]]\n",
      "\n",
      "Numbers Divisible by 3: \n"
     ]
    },
    {
     "data": {
      "text/plain": [
       "array([   9,   36,   81,  144,  225,  324,  441,  576,  729,  900, 1089,\n",
       "       1296, 1521, 1764, 2025, 2304, 2601, 2916, 3249, 3600, 3969, 4356,\n",
       "       4761, 5184, 5625, 6084, 6561, 7056, 7569, 8100, 8649, 9216, 9801])"
      ]
     },
     "execution_count": 126,
     "metadata": {},
     "output_type": "execute_result"
    }
   ],
   "source": [
    "import numpy as np\n",
    "\n",
    "n = np.arange(1, 101)\n",
    "squares = n ** 2\n",
    "a = squares.reshape(10, 10)\n",
    "\n",
    "divisible_by_3 = s[s % 3 == 0]\n",
    "\n",
    "np.save('div_by_3.npy', divisible_by_3)\n",
    "\n",
    "print(\"10x10 array: \\n\", a) \n",
    "print(\"\\nNumbers Divisible by 3: \")\n",
    "np.load('div_by_3.npy')"
   ]
  }
 ],
 "metadata": {
  "kernelspec": {
   "display_name": "Python 3 (ipykernel)",
   "language": "python",
   "name": "python3"
  },
  "language_info": {
   "codemirror_mode": {
    "name": "ipython",
    "version": 3
   },
   "file_extension": ".py",
   "mimetype": "text/x-python",
   "name": "python",
   "nbconvert_exporter": "python",
   "pygments_lexer": "ipython3",
   "version": "3.12.4"
  }
 },
 "nbformat": 4,
 "nbformat_minor": 5
}
