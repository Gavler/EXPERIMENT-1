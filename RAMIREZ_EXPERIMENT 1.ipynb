{
 "cells": [
  {
   "cell_type": "code",
   "execution_count": 65,
   "id": "9f4e2606-07cc-4d7a-bde2-8b2509e83fe2",
   "metadata": {},
   "outputs": [
    {
     "name": "stdin",
     "output_type": "stream",
     "text": [
      "Enter a word:  prehistoric\n"
     ]
    },
    {
     "name": "stdout",
     "output_type": "stream",
     "text": [
      "cehiioprrst\n"
     ]
    }
   ],
   "source": [
    "# ALPHABET SOUP PROBLEM:\n",
    "\n",
    "def sort_string_alphabetically(input_string):\n",
    "    return ''.join(sorted(input_string))\n",
    "\n",
    "a = input(\"Enter a word: \")\n",
    "alphabet_soup = sort_string_alphabetically(a)\n",
    "print(alphabet_soup)"
   ]
  },
  {
   "cell_type": "code",
   "execution_count": 7,
   "id": "442bc72f-b721-4df7-a5c9-ed9b4ef713b0",
   "metadata": {},
   "outputs": [
    {
     "name": "stdin",
     "output_type": "stream",
     "text": [
      "What do you feel right now?  i feel grin\n"
     ]
    },
    {
     "name": "stdout",
     "output_type": "stream",
     "text": [
      "i feel :D.\n"
     ]
    }
   ],
   "source": [
    "# EMOTICON PROBLEM:\n",
    "\n",
    "def replace_words_with_emoticons(sentence):\n",
    "    emoticons = {\"smile\": \":)\",\"grin\": \":D\",\"sad\": \":((\",\"mad\": \">:(\"}\n",
    "    \n",
    "    words = sentence.split()\n",
    "    replaced_words = [emoticons.get(word, word) for word in words]\n",
    "    return ' '.join(replaced_words)\n",
    "\n",
    "e = input(\"What do you feel right now? \")\n",
    "emotify = replace_words_with_emoticons(e)\n",
    "print(emotify)"
   ]
  },
  {
   "cell_type": "code",
   "execution_count": 55,
   "id": "138bff76-c596-499d-831f-9d38bf375a7e",
   "metadata": {},
   "outputs": [
    {
     "name": "stdout",
     "output_type": "stream",
     "text": [
      "List of numbers: [1, 2, 3, 4, 5, 6]\n",
      "First Number: 1\n",
      "Middle Numbers: 2 3 4 5\n",
      "Last Number: 6\n"
     ]
    }
   ],
   "source": [
    "# UNPACKING LIST PROBLEM:\n",
    "\n",
    "l = [1,2,3,4,5,6]\n",
    "print(\"List of numbers:\", l)\n",
    "print(\"First Number:\", l[0])\n",
    "print(\"Middle Numbers:\", l[1],l[2],l[3],l[4])\n",
    "print(\"Last Number:\", l[5])\n"
   ]
  },
  {
   "cell_type": "code",
   "execution_count": null,
   "id": "757dffc1-c3dd-4c11-9c51-08ef1a25e779",
   "metadata": {},
   "outputs": [],
   "source": []
  }
 ],
 "metadata": {
  "kernelspec": {
   "display_name": "Python 3 (ipykernel)",
   "language": "python",
   "name": "python3"
  },
  "language_info": {
   "codemirror_mode": {
    "name": "ipython",
    "version": 3
   },
   "file_extension": ".py",
   "mimetype": "text/x-python",
   "name": "python",
   "nbconvert_exporter": "python",
   "pygments_lexer": "ipython3",
   "version": "3.12.4"
  }
 },
 "nbformat": 4,
 "nbformat_minor": 5
}
